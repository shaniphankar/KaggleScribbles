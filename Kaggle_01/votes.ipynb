{
 "cells": [
  {
   "cell_type": "code",
   "execution_count": 63,
   "metadata": {},
   "outputs": [],
   "source": [
    "import numpy as np\n",
    "import pandas as pd\n",
    "import sklearn\n",
    "import matplotlib.pyplot as plt\n",
    "import matplotlib.image as img\n",
    "from sklearn.preprocessing import Imputer\n",
    "from sklearn.preprocessing import OneHotEncoder\n",
    "from sklearn.preprocessing import MinMaxScaler\n",
    "from sklearn.linear_model import LogisticRegression\n",
    "from sklearn.neighbors import KNeighborsClassifier\n",
    "from sklearn.svm import SVC\n",
    "from sklearn.model_selection import train_test_split\n",
    "from sklearn.tree import DecisionTreeClassifier\n",
    "from sklearn.ensemble import RandomForestClassifier"
   ]
  },
  {
   "cell_type": "code",
   "execution_count": 64,
   "metadata": {},
   "outputs": [
    {
     "name": "stdout",
     "output_type": "stream",
     "text": [
      "\n"
     ]
    }
   ],
   "source": [
    "df=pd.read_csv('train2016.csv')\n",
    "df.head()\n",
    "df.columns\n",
    "income_map={'under $25,000':0,'$25,001 - $50,000':1,'$50,000 - $74,999':2,'$75,000 - $100,000':3,'$100,001 - $150,000':4,'over $150,000':5}\n",
    "gender_map={'Male':0,'Female':1}\n",
    "vote_map={'Democrat':0,'Republican':1}\n",
    "df['Gender']=df['Gender'].map(gender_map)\n",
    "df['Income']=df['Income'].map(income_map)\n",
    "df['Income'].unique()\n",
    "df['Party']=df['Party'].map(vote_map)\n",
    "qmaps={}\n",
    "affirmatives=\"\"\"Yes,Check!,Optimist,Mom,Rent,Yay people!,Online,Yes!,Socialize,Cautious,Supportive,Tunes,People,TMI,Start,Circumstances,A.M,Happy,Hot headed,Standard hours,Idealist,Giving,Study first,Science,Public\"\"\".split(',')\n",
    "for y in df.columns[list(df.columns).index('Q124742'):]:\n",
    "    qmaps[y]={}\n",
    "    for k in df[y].unique():\n",
    "        if(type(k)==str):\n",
    "            if(k in affirmatives):\n",
    "                qmaps[y][k]=0\n",
    "            else:\n",
    "                qmaps[y][k]=1\n",
    "\n",
    "for y in df.columns[list(df.columns).index('Q124742'):]:\n",
    "    #print(qmaps[y])\n",
    "    df[y]=df[y].map(qmaps[y])\n",
    "#print(df.head)\n",
    "#I've left year as quant variable for now. I think I will change it soon\n",
    "#for x in df.columns:\n",
    " #   print(x)\n",
    "print()\n",
    "#try:\n",
    "\n",
    "#except Exception as e:\n",
    " #   print(traceback.print_exception)\n",
    "    #print(df)\n",
    "#df['YOB'].unique()\n"
   ]
  },
  {
   "cell_type": "code",
   "execution_count": 65,
   "metadata": {},
   "outputs": [
    {
     "data": {
      "text/html": [
       "<div>\n",
       "<style>\n",
       "    .dataframe thead tr:only-child th {\n",
       "        text-align: right;\n",
       "    }\n",
       "\n",
       "    .dataframe thead th {\n",
       "        text-align: left;\n",
       "    }\n",
       "\n",
       "    .dataframe tbody tr th {\n",
       "        vertical-align: top;\n",
       "    }\n",
       "</style>\n",
       "<table border=\"1\" class=\"dataframe\">\n",
       "  <thead>\n",
       "    <tr style=\"text-align: right;\">\n",
       "      <th></th>\n",
       "      <th>USER_ID</th>\n",
       "      <th>YOB</th>\n",
       "      <th>Gender</th>\n",
       "      <th>Income</th>\n",
       "      <th>Party</th>\n",
       "      <th>Q124742</th>\n",
       "      <th>Q124122</th>\n",
       "      <th>Q123464</th>\n",
       "      <th>Q123621</th>\n",
       "      <th>Q122769</th>\n",
       "      <th>...</th>\n",
       "      <th>Married (no kids)</th>\n",
       "      <th>Married (w/kids)</th>\n",
       "      <th>Single (no kids)</th>\n",
       "      <th>Single (w/kids)</th>\n",
       "      <th>Bachelor's Degree</th>\n",
       "      <th>Current K-12</th>\n",
       "      <th>Current Undergraduate</th>\n",
       "      <th>Doctoral Degree</th>\n",
       "      <th>High School Diploma</th>\n",
       "      <th>Master's Degree</th>\n",
       "    </tr>\n",
       "  </thead>\n",
       "  <tbody>\n",
       "    <tr>\n",
       "      <th>0</th>\n",
       "      <td>1</td>\n",
       "      <td>1938.0</td>\n",
       "      <td>0.0</td>\n",
       "      <td>NaN</td>\n",
       "      <td>0</td>\n",
       "      <td>1.0</td>\n",
       "      <td>NaN</td>\n",
       "      <td>1.0</td>\n",
       "      <td>1.0</td>\n",
       "      <td>1.0</td>\n",
       "      <td>...</td>\n",
       "      <td>0</td>\n",
       "      <td>1</td>\n",
       "      <td>0</td>\n",
       "      <td>0</td>\n",
       "      <td>0</td>\n",
       "      <td>0</td>\n",
       "      <td>0</td>\n",
       "      <td>0</td>\n",
       "      <td>0</td>\n",
       "      <td>0</td>\n",
       "    </tr>\n",
       "    <tr>\n",
       "      <th>1</th>\n",
       "      <td>4</td>\n",
       "      <td>1970.0</td>\n",
       "      <td>1.0</td>\n",
       "      <td>5.0</td>\n",
       "      <td>0</td>\n",
       "      <td>NaN</td>\n",
       "      <td>0.0</td>\n",
       "      <td>1.0</td>\n",
       "      <td>1.0</td>\n",
       "      <td>1.0</td>\n",
       "      <td>...</td>\n",
       "      <td>0</td>\n",
       "      <td>0</td>\n",
       "      <td>0</td>\n",
       "      <td>0</td>\n",
       "      <td>1</td>\n",
       "      <td>0</td>\n",
       "      <td>0</td>\n",
       "      <td>0</td>\n",
       "      <td>0</td>\n",
       "      <td>0</td>\n",
       "    </tr>\n",
       "    <tr>\n",
       "      <th>2</th>\n",
       "      <td>5</td>\n",
       "      <td>1997.0</td>\n",
       "      <td>0.0</td>\n",
       "      <td>3.0</td>\n",
       "      <td>1</td>\n",
       "      <td>NaN</td>\n",
       "      <td>0.0</td>\n",
       "      <td>0.0</td>\n",
       "      <td>1.0</td>\n",
       "      <td>NaN</td>\n",
       "      <td>...</td>\n",
       "      <td>0</td>\n",
       "      <td>0</td>\n",
       "      <td>1</td>\n",
       "      <td>0</td>\n",
       "      <td>0</td>\n",
       "      <td>0</td>\n",
       "      <td>0</td>\n",
       "      <td>0</td>\n",
       "      <td>1</td>\n",
       "      <td>0</td>\n",
       "    </tr>\n",
       "    <tr>\n",
       "      <th>3</th>\n",
       "      <td>8</td>\n",
       "      <td>1983.0</td>\n",
       "      <td>0.0</td>\n",
       "      <td>4.0</td>\n",
       "      <td>0</td>\n",
       "      <td>1.0</td>\n",
       "      <td>0.0</td>\n",
       "      <td>1.0</td>\n",
       "      <td>0.0</td>\n",
       "      <td>1.0</td>\n",
       "      <td>...</td>\n",
       "      <td>0</td>\n",
       "      <td>1</td>\n",
       "      <td>0</td>\n",
       "      <td>0</td>\n",
       "      <td>1</td>\n",
       "      <td>0</td>\n",
       "      <td>0</td>\n",
       "      <td>0</td>\n",
       "      <td>0</td>\n",
       "      <td>0</td>\n",
       "    </tr>\n",
       "    <tr>\n",
       "      <th>4</th>\n",
       "      <td>9</td>\n",
       "      <td>1984.0</td>\n",
       "      <td>1.0</td>\n",
       "      <td>2.0</td>\n",
       "      <td>1</td>\n",
       "      <td>1.0</td>\n",
       "      <td>0.0</td>\n",
       "      <td>1.0</td>\n",
       "      <td>1.0</td>\n",
       "      <td>1.0</td>\n",
       "      <td>...</td>\n",
       "      <td>0</td>\n",
       "      <td>1</td>\n",
       "      <td>0</td>\n",
       "      <td>0</td>\n",
       "      <td>0</td>\n",
       "      <td>0</td>\n",
       "      <td>0</td>\n",
       "      <td>0</td>\n",
       "      <td>1</td>\n",
       "      <td>0</td>\n",
       "    </tr>\n",
       "  </tbody>\n",
       "</table>\n",
       "<p>5 rows × 117 columns</p>\n",
       "</div>"
      ],
      "text/plain": [
       "   USER_ID     YOB  Gender  Income  Party  Q124742  Q124122  Q123464  Q123621  \\\n",
       "0        1  1938.0     0.0     NaN      0      1.0      NaN      1.0      1.0   \n",
       "1        4  1970.0     1.0     5.0      0      NaN      0.0      1.0      1.0   \n",
       "2        5  1997.0     0.0     3.0      1      NaN      0.0      0.0      1.0   \n",
       "3        8  1983.0     0.0     4.0      0      1.0      0.0      1.0      0.0   \n",
       "4        9  1984.0     1.0     2.0      1      1.0      0.0      1.0      1.0   \n",
       "\n",
       "   Q122769       ...         Married (no kids)  Married (w/kids)  \\\n",
       "0      1.0       ...                         0                 1   \n",
       "1      1.0       ...                         0                 0   \n",
       "2      NaN       ...                         0                 0   \n",
       "3      1.0       ...                         0                 1   \n",
       "4      1.0       ...                         0                 1   \n",
       "\n",
       "   Single (no kids)  Single (w/kids)  Bachelor's Degree  Current K-12  \\\n",
       "0                 0                0                  0             0   \n",
       "1                 0                0                  1             0   \n",
       "2                 1                0                  0             0   \n",
       "3                 0                0                  1             0   \n",
       "4                 0                0                  0             0   \n",
       "\n",
       "   Current Undergraduate  Doctoral Degree  High School Diploma  \\\n",
       "0                      0                0                    0   \n",
       "1                      0                0                    0   \n",
       "2                      0                0                    1   \n",
       "3                      0                0                    0   \n",
       "4                      0                0                    1   \n",
       "\n",
       "   Master's Degree  \n",
       "0                0  \n",
       "1                0  \n",
       "2                0  \n",
       "3                0  \n",
       "4                0  \n",
       "\n",
       "[5 rows x 117 columns]"
      ]
     },
     "execution_count": 65,
     "metadata": {},
     "output_type": "execute_result"
    }
   ],
   "source": [
    "df=pd.concat([df,(pd.get_dummies(df[df.columns[4]],drop_first=True))],axis=1)\n",
    "df=pd.concat([df,(pd.get_dummies(df[df.columns[5]],drop_first=True))],axis=1)\n",
    "df.head()\n",
    "df=df.drop('HouseholdStatus',axis=1)\n",
    "df=df.drop(\"EducationLevel\",axis=1)\n",
    "\n",
    "df.head()\n",
    "#df['Single (w/kids)']==0"
   ]
  },
  {
   "cell_type": "code",
   "execution_count": 66,
   "metadata": {},
   "outputs": [],
   "source": [
    "df=df.fillna(df.mean(),inplace=True)\n",
    "y=df['Party']\n",
    "x=df.drop(['Party','USER_ID'],axis=1)\n",
    "x_train,x_test,y_train,y_test=train_test_split(x,y,test_size=0.33)\n",
    "\n"
   ]
  },
  {
   "cell_type": "code",
   "execution_count": 67,
   "metadata": {
    "collapsed": true
   },
   "outputs": [],
   "source": [
    "#mms=MinMaxScaler()\n",
    "#x=mms.fit_transform(x)\n",
    "#ignoring mms for now since I dont really feel it is needed. Year of Birth is the only thing that is ridiculously high"
   ]
  },
  {
   "cell_type": "code",
   "execution_count": 68,
   "metadata": {},
   "outputs": [
    {
     "name": "stdout",
     "output_type": "stream",
     "text": [
      "0.65308310992\n",
      "0.611534276387\n",
      "[[ -7.53441414e-04  -8.55840150e-02  -1.17015921e-02  -1.56983344e-01\n",
      "    4.13397152e-02  -1.50727260e-02   0.00000000e+00  -8.53187176e-05\n",
      "   -2.72416689e-02   3.63760469e-01  -1.63597398e-01   1.15952182e-02\n",
      "    7.80386115e-02   0.00000000e+00  -3.03838638e-02   2.04640862e-01\n",
      "   -2.90112977e-01  -3.14154851e-02   1.26004698e-01   1.64102564e-01\n",
      "   -1.68767330e-01  -1.13189223e-01   2.38907180e-01  -1.01059559e-01\n",
      "    1.48280627e-01   0.00000000e+00   2.77946402e-01   1.04552450e-01\n",
      "   -9.14681603e-02  -3.03329589e-02  -1.64720805e-02   7.85369173e-02\n",
      "    2.12009434e-01   7.42093455e-02   1.26362780e-01  -3.71494516e-02\n",
      "    3.37651619e-02   0.00000000e+00   2.20082732e-02   0.00000000e+00\n",
      "    4.81438159e-02  -5.69343765e-01   1.86416592e-01   1.84190160e-01\n",
      "   -2.57626092e-03   1.11503037e-01   1.15905637e-01  -5.20160523e-02\n",
      "   -3.95474005e-02   7.42620826e-03   1.07893487e-01   1.14654925e-01\n",
      "    5.64671931e-02  -2.83875264e-01   1.60345848e-01  -2.31214891e-02\n",
      "   -7.20220044e-02  -1.01966463e-01   7.25510907e-02   9.16588179e-02\n",
      "    0.00000000e+00   0.00000000e+00  -6.85715179e-02   1.43907985e+00\n",
      "   -8.85086826e-02  -2.23561652e-01  -3.31594043e-02  -1.72802762e-02\n",
      "    5.18531398e-02   7.41933677e-03  -5.73956815e-02   1.94134034e-02\n",
      "    1.74244993e-01   2.10104197e-01  -2.32540284e-02   4.50714452e-02\n",
      "    8.81936785e-02   1.68488523e-01   1.07065029e-01  -8.81412479e-02\n",
      "    2.91180359e-02   1.18784213e-01  -7.86084677e-02   0.00000000e+00\n",
      "    2.37289513e-02  -1.79375224e-02   9.86195805e-02   1.70189009e-02\n",
      "    1.92011169e-01   0.00000000e+00   8.03124471e-02  -1.43445164e-01\n",
      "   -1.04058607e-01  -2.58847954e-02  -1.40152864e-01   1.28107123e-02\n",
      "    7.15597870e-02  -2.31248432e-01  -2.77155600e-01   1.14408414e-01\n",
      "    2.05313431e-01  -3.73015429e-02  -3.23445114e-01  -8.71941472e-02\n",
      "   -5.62214192e-02   6.34103065e-02   2.58738443e-01   6.59021547e-02\n",
      "    0.00000000e+00  -2.69113168e-01   5.84842608e-02   0.00000000e+00\n",
      "   -2.07989033e-02   3.59830410e-03  -1.81304992e-01]]\n"
     ]
    }
   ],
   "source": [
    "lr=LogisticRegression(penalty='l1',C=1.0)\n",
    "lr.fit(x_train,y_train)\n",
    "print(lr.score(x_train,y_train))\n",
    "print(lr.score(x_test,y_test))\n",
    "print(lr.coef_)"
   ]
  },
  {
   "cell_type": "code",
   "execution_count": 69,
   "metadata": {},
   "outputs": [
    {
     "name": "stdout",
     "output_type": "stream",
     "text": [
      "0.721715817694\n",
      "0.519586507073\n"
     ]
    }
   ],
   "source": [
    "knn=KNeighborsClassifier(n_neighbors=5,p=2,metric='minkowski')\n",
    "knn.fit(x_train,y_train)\n",
    "print(knn.score(x_train,y_train))\n",
    "print(knn.score(x_test,y_test))\n",
    "#It performed slightly better. by 0.01"
   ]
  },
  {
   "cell_type": "code",
   "execution_count": 70,
   "metadata": {},
   "outputs": [
    {
     "name": "stdout",
     "output_type": "stream",
     "text": [
      "0.63672922252\n",
      "0.615342763874\n"
     ]
    }
   ],
   "source": [
    "svm=SVC(kernel='linear',random_state=1,C=1.0)\n",
    "svm.fit(x_train,y_train)\n",
    "print(svm.score(x_train,y_train))\n",
    "print(svm.score(x_test,y_test))\n",
    "#For some reason it workeed worse here"
   ]
  },
  {
   "cell_type": "code",
   "execution_count": 71,
   "metadata": {},
   "outputs": [
    {
     "name": "stdout",
     "output_type": "stream",
     "text": [
      "0.802949061662\n",
      "0.550054406964\n"
     ]
    }
   ],
   "source": [
    "tree=DecisionTreeClassifier(criterion='gini',max_depth=10,random_state=1)\n",
    "tree.fit(x_train,y_train)\n",
    "print(tree.score(x_train,y_train))\n",
    "print(tree.score(x_test,y_test))\n",
    "#so decision trees dont generalize that well it seems"
   ]
  },
  {
   "cell_type": "code",
   "execution_count": 72,
   "metadata": {},
   "outputs": [
    {
     "name": "stdout",
     "output_type": "stream",
     "text": [
      "1.0\n",
      "0.610990206746\n"
     ]
    }
   ],
   "source": [
    "forest=RandomForestClassifier(criterion='gini',n_estimators=40,random_state=1,n_jobs=4)\n",
    "forest.fit(x_train,y_train)\n",
    "print(forest.score(x_train,y_train))\n",
    "print(forest.score(x_test,y_test))\n",
    "#This generalized slightly better. Also the training data now has a perfect fit"
   ]
  },
  {
   "cell_type": "code",
   "execution_count": null,
   "metadata": {
    "collapsed": true
   },
   "outputs": [],
   "source": []
  }
 ],
 "metadata": {
  "kernelspec": {
   "display_name": "Python 3",
   "language": "python",
   "name": "python3"
  },
  "language_info": {
   "codemirror_mode": {
    "name": "ipython",
    "version": 3
   },
   "file_extension": ".py",
   "mimetype": "text/x-python",
   "name": "python",
   "nbconvert_exporter": "python",
   "pygments_lexer": "ipython3",
   "version": "3.5.3"
  }
 },
 "nbformat": 4,
 "nbformat_minor": 2
}
