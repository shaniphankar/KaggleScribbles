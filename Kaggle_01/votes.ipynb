{
 "cells": [
  {
   "cell_type": "code",
   "execution_count": 2,
   "metadata": {
    "collapsed": true
   },
   "outputs": [],
   "source": [
    "import numpy as np\n",
    "import pandas as pd\n",
    "import sklearn\n",
    "import matplotlib.pyplot as plt\n",
    "import matplotlib.image as img\n",
    "from sklearn.preprocessing import Imputer\n",
    "from sklearn.preprocessing import OneHotEncoder\n",
    "from sklearn.preprocessing import MinMaxScaler\n",
    "from sklearn.linear_model import LogisticRegression\n",
    "from sklearn.neighbors import KNeighborsClassifier\n",
    "from sklearn.svm import SVC\n",
    "from sklearn.model_selection import train_test_split\n",
    "from sklearn.tree import DecisionTreeClassifier\n",
    "from sklearn.ensemble import RandomForestClassifier"
   ]
  },
  {
   "cell_type": "code",
   "execution_count": 3,
   "metadata": {},
   "outputs": [
    {
     "name": "stdout",
     "output_type": "stream",
     "text": [
      "\n"
     ]
    }
   ],
   "source": [
    "df=pd.read_csv('train2016.csv')\n",
    "df.head()\n",
    "df.columns\n",
    "income_map={'under $25,000':0,'$25,001 - $50,000':1,'$50,000 - $74,999':2,'$75,000 - $100,000':3,'$100,001 - $150,000':4,'over $150,000':5}\n",
    "gender_map={'Male':0,'Female':1}\n",
    "vote_map={'Democrat':0,'Republican':1}\n",
    "df['Gender']=df['Gender'].map(gender_map)\n",
    "df['Income']=df['Income'].map(income_map)\n",
    "df['Income'].unique()\n",
    "df['Party']=df['Party'].map(vote_map)\n",
    "qmaps={}\n",
    "affirmatives=\"\"\"Yes,Check!,Optimist,Mom,Rent,Yay people!,Online,Yes!,Socialize,Cautious,Supportive,Tunes,People,TMI,Start,Circumstances,A.M,Happy,Hot headed,Standard hours,Idealist,Giving,Study first,Science,Public\"\"\".split(',')\n",
    "for y in df.columns[list(df.columns).index('Q124742'):]:\n",
    "    qmaps[y]={}\n",
    "    for k in df[y].unique():\n",
    "        if(type(k)==str):\n",
    "            if(k in affirmatives):\n",
    "                qmaps[y][k]=0\n",
    "            else:\n",
    "                qmaps[y][k]=1\n",
    "\n",
    "for y in df.columns[list(df.columns).index('Q124742'):]:\n",
    "    #print(qmaps[y])\n",
    "    df[y]=df[y].map(qmaps[y])\n",
    "#print(df.head)\n",
    "#I've left year as quant variable for now. I think I will change it soon\n",
    "#for x in df.columns:\n",
    " #   print(x)\n",
    "print()\n",
    "#try:\n",
    "\n",
    "#except Exception as e:\n",
    " #   print(traceback.print_exception)\n",
    "    #print(df)\n",
    "#df['YOB'].unique()\n"
   ]
  },
  {
   "cell_type": "code",
   "execution_count": 4,
   "metadata": {},
   "outputs": [
    {
     "data": {
      "text/html": [
       "<div>\n",
       "<style>\n",
       "    .dataframe thead tr:only-child th {\n",
       "        text-align: right;\n",
       "    }\n",
       "\n",
       "    .dataframe thead th {\n",
       "        text-align: left;\n",
       "    }\n",
       "\n",
       "    .dataframe tbody tr th {\n",
       "        vertical-align: top;\n",
       "    }\n",
       "</style>\n",
       "<table border=\"1\" class=\"dataframe\">\n",
       "  <thead>\n",
       "    <tr style=\"text-align: right;\">\n",
       "      <th></th>\n",
       "      <th>USER_ID</th>\n",
       "      <th>YOB</th>\n",
       "      <th>Gender</th>\n",
       "      <th>Income</th>\n",
       "      <th>Party</th>\n",
       "      <th>Q124742</th>\n",
       "      <th>Q124122</th>\n",
       "      <th>Q123464</th>\n",
       "      <th>Q123621</th>\n",
       "      <th>Q122769</th>\n",
       "      <th>...</th>\n",
       "      <th>Married (no kids)</th>\n",
       "      <th>Married (w/kids)</th>\n",
       "      <th>Single (no kids)</th>\n",
       "      <th>Single (w/kids)</th>\n",
       "      <th>Bachelor's Degree</th>\n",
       "      <th>Current K-12</th>\n",
       "      <th>Current Undergraduate</th>\n",
       "      <th>Doctoral Degree</th>\n",
       "      <th>High School Diploma</th>\n",
       "      <th>Master's Degree</th>\n",
       "    </tr>\n",
       "  </thead>\n",
       "  <tbody>\n",
       "    <tr>\n",
       "      <th>0</th>\n",
       "      <td>1</td>\n",
       "      <td>1938.0</td>\n",
       "      <td>0.0</td>\n",
       "      <td>NaN</td>\n",
       "      <td>0</td>\n",
       "      <td>1.0</td>\n",
       "      <td>NaN</td>\n",
       "      <td>1.0</td>\n",
       "      <td>1.0</td>\n",
       "      <td>1.0</td>\n",
       "      <td>...</td>\n",
       "      <td>0</td>\n",
       "      <td>1</td>\n",
       "      <td>0</td>\n",
       "      <td>0</td>\n",
       "      <td>0</td>\n",
       "      <td>0</td>\n",
       "      <td>0</td>\n",
       "      <td>0</td>\n",
       "      <td>0</td>\n",
       "      <td>0</td>\n",
       "    </tr>\n",
       "    <tr>\n",
       "      <th>1</th>\n",
       "      <td>4</td>\n",
       "      <td>1970.0</td>\n",
       "      <td>1.0</td>\n",
       "      <td>5.0</td>\n",
       "      <td>0</td>\n",
       "      <td>NaN</td>\n",
       "      <td>0.0</td>\n",
       "      <td>1.0</td>\n",
       "      <td>1.0</td>\n",
       "      <td>1.0</td>\n",
       "      <td>...</td>\n",
       "      <td>0</td>\n",
       "      <td>0</td>\n",
       "      <td>0</td>\n",
       "      <td>0</td>\n",
       "      <td>1</td>\n",
       "      <td>0</td>\n",
       "      <td>0</td>\n",
       "      <td>0</td>\n",
       "      <td>0</td>\n",
       "      <td>0</td>\n",
       "    </tr>\n",
       "    <tr>\n",
       "      <th>2</th>\n",
       "      <td>5</td>\n",
       "      <td>1997.0</td>\n",
       "      <td>0.0</td>\n",
       "      <td>3.0</td>\n",
       "      <td>1</td>\n",
       "      <td>NaN</td>\n",
       "      <td>0.0</td>\n",
       "      <td>0.0</td>\n",
       "      <td>1.0</td>\n",
       "      <td>NaN</td>\n",
       "      <td>...</td>\n",
       "      <td>0</td>\n",
       "      <td>0</td>\n",
       "      <td>1</td>\n",
       "      <td>0</td>\n",
       "      <td>0</td>\n",
       "      <td>0</td>\n",
       "      <td>0</td>\n",
       "      <td>0</td>\n",
       "      <td>1</td>\n",
       "      <td>0</td>\n",
       "    </tr>\n",
       "    <tr>\n",
       "      <th>3</th>\n",
       "      <td>8</td>\n",
       "      <td>1983.0</td>\n",
       "      <td>0.0</td>\n",
       "      <td>4.0</td>\n",
       "      <td>0</td>\n",
       "      <td>1.0</td>\n",
       "      <td>0.0</td>\n",
       "      <td>1.0</td>\n",
       "      <td>0.0</td>\n",
       "      <td>1.0</td>\n",
       "      <td>...</td>\n",
       "      <td>0</td>\n",
       "      <td>1</td>\n",
       "      <td>0</td>\n",
       "      <td>0</td>\n",
       "      <td>1</td>\n",
       "      <td>0</td>\n",
       "      <td>0</td>\n",
       "      <td>0</td>\n",
       "      <td>0</td>\n",
       "      <td>0</td>\n",
       "    </tr>\n",
       "    <tr>\n",
       "      <th>4</th>\n",
       "      <td>9</td>\n",
       "      <td>1984.0</td>\n",
       "      <td>1.0</td>\n",
       "      <td>2.0</td>\n",
       "      <td>1</td>\n",
       "      <td>1.0</td>\n",
       "      <td>0.0</td>\n",
       "      <td>1.0</td>\n",
       "      <td>1.0</td>\n",
       "      <td>1.0</td>\n",
       "      <td>...</td>\n",
       "      <td>0</td>\n",
       "      <td>1</td>\n",
       "      <td>0</td>\n",
       "      <td>0</td>\n",
       "      <td>0</td>\n",
       "      <td>0</td>\n",
       "      <td>0</td>\n",
       "      <td>0</td>\n",
       "      <td>1</td>\n",
       "      <td>0</td>\n",
       "    </tr>\n",
       "  </tbody>\n",
       "</table>\n",
       "<p>5 rows × 117 columns</p>\n",
       "</div>"
      ],
      "text/plain": [
       "   USER_ID     YOB  Gender  Income  Party  Q124742  Q124122  Q123464  Q123621  \\\n",
       "0        1  1938.0     0.0     NaN      0      1.0      NaN      1.0      1.0   \n",
       "1        4  1970.0     1.0     5.0      0      NaN      0.0      1.0      1.0   \n",
       "2        5  1997.0     0.0     3.0      1      NaN      0.0      0.0      1.0   \n",
       "3        8  1983.0     0.0     4.0      0      1.0      0.0      1.0      0.0   \n",
       "4        9  1984.0     1.0     2.0      1      1.0      0.0      1.0      1.0   \n",
       "\n",
       "   Q122769       ...         Married (no kids)  Married (w/kids)  \\\n",
       "0      1.0       ...                         0                 1   \n",
       "1      1.0       ...                         0                 0   \n",
       "2      NaN       ...                         0                 0   \n",
       "3      1.0       ...                         0                 1   \n",
       "4      1.0       ...                         0                 1   \n",
       "\n",
       "   Single (no kids)  Single (w/kids)  Bachelor's Degree  Current K-12  \\\n",
       "0                 0                0                  0             0   \n",
       "1                 0                0                  1             0   \n",
       "2                 1                0                  0             0   \n",
       "3                 0                0                  1             0   \n",
       "4                 0                0                  0             0   \n",
       "\n",
       "   Current Undergraduate  Doctoral Degree  High School Diploma  \\\n",
       "0                      0                0                    0   \n",
       "1                      0                0                    0   \n",
       "2                      0                0                    1   \n",
       "3                      0                0                    0   \n",
       "4                      0                0                    1   \n",
       "\n",
       "   Master's Degree  \n",
       "0                0  \n",
       "1                0  \n",
       "2                0  \n",
       "3                0  \n",
       "4                0  \n",
       "\n",
       "[5 rows x 117 columns]"
      ]
     },
     "execution_count": 4,
     "metadata": {},
     "output_type": "execute_result"
    }
   ],
   "source": [
    "df=pd.concat([df,(pd.get_dummies(df[df.columns[4]],drop_first=True))],axis=1)\n",
    "df=pd.concat([df,(pd.get_dummies(df[df.columns[5]],drop_first=True))],axis=1)\n",
    "df.head()\n",
    "df=df.drop('HouseholdStatus',axis=1)\n",
    "df=df.drop(\"EducationLevel\",axis=1)\n",
    "\n",
    "df.head()\n",
    "#df['Single (w/kids)']==0"
   ]
  },
  {
   "cell_type": "code",
   "execution_count": 5,
   "metadata": {
    "collapsed": true
   },
   "outputs": [],
   "source": [
    "df=df.fillna(df.mean(),inplace=True)\n",
    "y=df['Party']\n",
    "x=df.drop(['Party','USER_ID'],axis=1)\n",
    "x_train,x_test,y_train,y_test=train_test_split(x,y,test_size=0.33)\n",
    "\n"
   ]
  },
  {
   "cell_type": "code",
   "execution_count": 6,
   "metadata": {
    "collapsed": true
   },
   "outputs": [],
   "source": [
    "#mms=MinMaxScaler()\n",
    "#x=mms.fit_transform(x)\n",
    "#ignoring mms for now since I dont really feel it is needed. Year of Birth is the only thing that is ridiculously high"
   ]
  },
  {
   "cell_type": "code",
   "execution_count": 7,
   "metadata": {},
   "outputs": [
    {
     "name": "stdout",
     "output_type": "stream",
     "text": [
      "0.648257372654\n",
      "0.624591947769\n",
      "[[ -7.56264780e-04  -1.92909351e-01  -2.86999698e-02  -1.89667228e-02\n",
      "    1.42360524e-01   6.69584098e-02  -3.30462106e-02   6.96783415e-03\n",
      "   -1.25487806e-01   1.47278312e-01  -1.87585879e-01   5.90969585e-02\n",
      "    1.39383474e-01  -3.12908716e-02   1.00168069e-01   2.14528063e-01\n",
      "   -1.71577411e-01  -5.11694080e-02   1.17237554e-01   9.19810373e-03\n",
      "   -1.57922804e-01  -7.27399156e-02   1.64336645e-01  -7.31184108e-02\n",
      "    1.16684894e-01   1.94311372e-02   1.80796266e-01   1.18598031e-01\n",
      "    3.65862819e-02   2.88209652e-02  -6.52362464e-02  -5.94370984e-02\n",
      "    3.37983635e-01   1.24213448e-01   2.57182204e-02  -4.54032189e-03\n",
      "   -4.97426125e-02   0.00000000e+00   0.00000000e+00   6.57335738e-02\n",
      "    2.56589553e-02  -4.71417136e-01   2.11531123e-01   2.23601414e-01\n",
      "   -2.76808625e-02   8.93541659e-02   8.73596957e-02  -2.17066107e-03\n",
      "   -1.48799428e-02   7.67135647e-03   1.32615691e-01  -3.69719529e-02\n",
      "   -2.31404890e-02  -2.87042418e-01   1.13963310e-01  -5.91711410e-02\n",
      "   -2.18290539e-02   2.00573625e-02  -3.70173386e-02   1.80015513e-01\n",
      "    0.00000000e+00   0.00000000e+00   0.00000000e+00   1.33619752e+00\n",
      "    1.27088026e-01  -1.74091444e-01   0.00000000e+00  -7.19967517e-02\n",
      "    9.40184106e-02  -2.95076255e-02  -5.90303128e-02   4.71859303e-02\n",
      "    1.96793925e-01   1.43682530e-01  -4.32401680e-02  -1.39988647e-02\n",
      "    1.22543001e-01   1.06681248e-01   1.04628613e-01  -1.80738301e-01\n",
      "    1.38599298e-01   9.92611369e-02  -8.65320727e-02   8.71980781e-02\n",
      "    0.00000000e+00   0.00000000e+00  -6.13379210e-03   8.27318100e-02\n",
      "    1.68012826e-01  -2.76886551e-03   9.00457235e-02  -6.42976585e-02\n",
      "    0.00000000e+00  -1.01668556e-01  -5.55545491e-02  -4.06618047e-02\n",
      "   -3.35201544e-02  -2.94339290e-01  -4.11677192e-01   3.25756637e-02\n",
      "    2.33074609e-01   3.87912201e-03  -3.29177573e-01  -3.82204790e-02\n",
      "    9.79169402e-02   5.37321611e-02   2.22875803e-01   8.80640494e-02\n",
      "   -2.36534044e-01  -1.79079195e-01   9.96425397e-02  -1.27201191e-01\n",
      "    0.00000000e+00  -1.54530227e-01  -1.35760245e-01]]\n"
     ]
    }
   ],
   "source": [
    "lr=LogisticRegression(penalty='l1',C=1.0)\n",
    "lr.fit(x_train,y_train)\n",
    "print(lr.score(x_train,y_train))\n",
    "print(lr.score(x_test,y_test))\n",
    "print(lr.coef_)"
   ]
  },
  {
   "cell_type": "code",
   "execution_count": 8,
   "metadata": {},
   "outputs": [
    {
     "name": "stdout",
     "output_type": "stream",
     "text": [
      "0.720375335121\n",
      "0.526115342764\n"
     ]
    }
   ],
   "source": [
    "knn=KNeighborsClassifier(n_neighbors=5,p=2,metric='minkowski')\n",
    "knn.fit(x_train,y_train)\n",
    "print(knn.score(x_train,y_train))\n",
    "print(knn.score(x_test,y_test))\n",
    "#It performed slightly better. by 0.01"
   ]
  },
  {
   "cell_type": "code",
   "execution_count": 9,
   "metadata": {},
   "outputs": [
    {
     "name": "stdout",
     "output_type": "stream",
     "text": [
      "0.631903485255\n",
      "0.603917301415\n"
     ]
    }
   ],
   "source": [
    "svm=SVC(kernel='linear',random_state=1,C=1.0)\n",
    "svm.fit(x_train,y_train)\n",
    "print(svm.score(x_train,y_train))\n",
    "print(svm.score(x_test,y_test))\n",
    "#For some reason it workeed worse here"
   ]
  },
  {
   "cell_type": "code",
   "execution_count": 10,
   "metadata": {},
   "outputs": [
    {
     "name": "stdout",
     "output_type": "stream",
     "text": [
      "0.803217158177\n",
      "0.544069640914\n"
     ]
    }
   ],
   "source": [
    "tree=DecisionTreeClassifier(criterion='gini',max_depth=10,random_state=1)\n",
    "tree.fit(x_train,y_train)\n",
    "print(tree.score(x_train,y_train))\n",
    "print(tree.score(x_test,y_test))\n",
    "#so decision trees dont generalize that well it seems"
   ]
  },
  {
   "cell_type": "code",
   "execution_count": 11,
   "metadata": {},
   "outputs": [
    {
     "name": "stdout",
     "output_type": "stream",
     "text": [
      "0.999731903485\n",
      "0.593579978237\n"
     ]
    }
   ],
   "source": [
    "forest=RandomForestClassifier(criterion='gini',n_estimators=40,random_state=1,n_jobs=4)\n",
    "forest.fit(x_train,y_train)\n",
    "print(forest.score(x_train,y_train))\n",
    "print(forest.score(x_test,y_test))\n",
    "#This generalized slightly better. Also the training data now has a perfect fit"
   ]
  },
  {
   "cell_type": "code",
   "execution_count": 20,
   "metadata": {},
   "outputs": [],
   "source": [
    "x=df.drop(['YOB'],axis=1)\n",
    "x_train,x_test,y_train,y_test=train_test_split(x,y,test_size=0.33)"
   ]
  },
  {
   "cell_type": "code",
   "execution_count": 21,
   "metadata": {},
   "outputs": [
    {
     "name": "stdout",
     "output_type": "stream",
     "text": [
      "1.0\n",
      "1.0\n",
      "[[ -3.09771827e-04   0.00000000e+00  -2.41970755e-01   1.48735717e+01\n",
      "    0.00000000e+00   0.00000000e+00   0.00000000e+00   0.00000000e+00\n",
      "    0.00000000e+00   0.00000000e+00   0.00000000e+00   0.00000000e+00\n",
      "    0.00000000e+00   0.00000000e+00   0.00000000e+00   0.00000000e+00\n",
      "    0.00000000e+00   0.00000000e+00   0.00000000e+00   0.00000000e+00\n",
      "    0.00000000e+00   0.00000000e+00   0.00000000e+00   0.00000000e+00\n",
      "    0.00000000e+00   0.00000000e+00   0.00000000e+00   0.00000000e+00\n",
      "    0.00000000e+00   0.00000000e+00   0.00000000e+00   0.00000000e+00\n",
      "    0.00000000e+00   0.00000000e+00   0.00000000e+00   0.00000000e+00\n",
      "    0.00000000e+00   0.00000000e+00  -1.92109128e+00   0.00000000e+00\n",
      "    0.00000000e+00   0.00000000e+00   0.00000000e+00   0.00000000e+00\n",
      "    0.00000000e+00   0.00000000e+00   0.00000000e+00   0.00000000e+00\n",
      "    0.00000000e+00   0.00000000e+00   0.00000000e+00   0.00000000e+00\n",
      "    0.00000000e+00   0.00000000e+00   0.00000000e+00   0.00000000e+00\n",
      "    0.00000000e+00   0.00000000e+00   0.00000000e+00   0.00000000e+00\n",
      "    0.00000000e+00  -1.68901855e+00   0.00000000e+00   0.00000000e+00\n",
      "    0.00000000e+00   0.00000000e+00   0.00000000e+00   0.00000000e+00\n",
      "    0.00000000e+00   0.00000000e+00   0.00000000e+00   0.00000000e+00\n",
      "    0.00000000e+00   0.00000000e+00   0.00000000e+00   0.00000000e+00\n",
      "    0.00000000e+00   0.00000000e+00   0.00000000e+00   0.00000000e+00\n",
      "    0.00000000e+00   0.00000000e+00   0.00000000e+00   0.00000000e+00\n",
      "    0.00000000e+00   0.00000000e+00   0.00000000e+00   0.00000000e+00\n",
      "    0.00000000e+00   0.00000000e+00   0.00000000e+00   0.00000000e+00\n",
      "    0.00000000e+00   0.00000000e+00   0.00000000e+00   0.00000000e+00\n",
      "    0.00000000e+00   0.00000000e+00   0.00000000e+00   0.00000000e+00\n",
      "    0.00000000e+00   0.00000000e+00   0.00000000e+00   0.00000000e+00\n",
      "    0.00000000e+00   0.00000000e+00   0.00000000e+00   0.00000000e+00\n",
      "    0.00000000e+00   0.00000000e+00   0.00000000e+00   0.00000000e+00\n",
      "    0.00000000e+00   0.00000000e+00   0.00000000e+00   0.00000000e+00]]\n"
     ]
    }
   ],
   "source": [
    "lr=LogisticRegression(penalty='l1',C=1.0)\n",
    "lr.fit(x_train,y_train)\n",
    "print(lr.score(x_train,y_train))\n",
    "print(lr.score(x_test,y_test))\n",
    "print(lr.coef_)\n",
    "#What happened all of a sudden? Removing the year of birth improved the solution a lot. Also coefficient matrix is a lot more sparse than before when using L1 regularization. This is according to expectations"
   ]
  },
  {
   "cell_type": "code",
   "execution_count": 22,
   "metadata": {},
   "outputs": [
    {
     "name": "stdout",
     "output_type": "stream",
     "text": [
      "0.694638069705\n",
      "0.526659412405\n"
     ]
    }
   ],
   "source": [
    "knn=KNeighborsClassifier(n_neighbors=5,p=2,metric='minkowski')\n",
    "knn.fit(x_train,y_train)\n",
    "print(knn.score(x_train,y_train))\n",
    "print(knn.score(x_test,y_test))\n",
    "#KNearest Neightbours seems to be relatively unaffected by it somehow"
   ]
  },
  {
   "cell_type": "code",
   "execution_count": 23,
   "metadata": {},
   "outputs": [
    {
     "name": "stdout",
     "output_type": "stream",
     "text": [
      "0.999731903485\n",
      "0.998367791077\n"
     ]
    }
   ],
   "source": [
    "svm=SVC(kernel='linear',random_state=1,C=1.0)\n",
    "svm.fit(x_train,y_train)\n",
    "print(svm.score(x_train,y_train))\n",
    "print(svm.score(x_test,y_test))\n",
    "#SVM also shows very very good results"
   ]
  },
  {
   "cell_type": "code",
   "execution_count": 24,
   "metadata": {},
   "outputs": [
    {
     "name": "stdout",
     "output_type": "stream",
     "text": [
      "1.0\n",
      "1.0\n"
     ]
    }
   ],
   "source": [
    "tree=DecisionTreeClassifier(criterion='gini',max_depth=10,random_state=1)\n",
    "tree.fit(x_train,y_train)\n",
    "print(tree.score(x_train,y_train))\n",
    "print(tree.score(x_test,y_test))\n",
    "#Decision Tree has improved in its generalization"
   ]
  },
  {
   "cell_type": "code",
   "execution_count": 25,
   "metadata": {},
   "outputs": [
    {
     "name": "stdout",
     "output_type": "stream",
     "text": [
      "1.0\n",
      "1.0\n"
     ]
    }
   ],
   "source": [
    "forest=RandomForestClassifier(criterion='gini',n_estimators=40,random_state=1,n_jobs=4)\n",
    "forest.fit(x_train,y_train)\n",
    "print(forest.score(x_train,y_train))\n",
    "print(forest.score(x_test,y_test))\n",
    "#Random Forest follows decision forest in its performance. Astounding"
   ]
  },
  {
   "cell_type": "code",
   "execution_count": null,
   "metadata": {
    "collapsed": true
   },
   "outputs": [],
   "source": []
  },
  {
   "cell_type": "code",
   "execution_count": null,
   "metadata": {
    "collapsed": true
   },
   "outputs": [],
   "source": []
  }
 ],
 "metadata": {
  "kernelspec": {
   "display_name": "Python 3",
   "language": "python",
   "name": "python3"
  },
  "language_info": {
   "codemirror_mode": {
    "name": "ipython",
    "version": 3
   },
   "file_extension": ".py",
   "mimetype": "text/x-python",
   "name": "python",
   "nbconvert_exporter": "python",
   "pygments_lexer": "ipython3",
   "version": "3.5.3"
  }
 },
 "nbformat": 4,
 "nbformat_minor": 2
}
